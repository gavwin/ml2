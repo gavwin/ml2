{
 "cells": [
  {
   "cell_type": "markdown",
   "source": [
    "### Assignment 1 - Gavin Wainwright"
   ],
   "metadata": {
    "collapsed": false
   }
  },
  {
   "cell_type": "code",
   "execution_count": 88,
   "outputs": [],
   "source": [
    "import numpy as np"
   ],
   "metadata": {
    "collapsed": false
   }
  },
  {
   "cell_type": "markdown",
   "source": [
    "Question 1"
   ],
   "metadata": {
    "collapsed": false
   }
  },
  {
   "cell_type": "code",
   "execution_count": 89,
   "outputs": [],
   "source": [
    "x = np.array([[2], [2], [6]])\n",
    "X = np.array([[-4,7,5], [1,-9,2], [8,3,6]])\n",
    "Y = np.array([[2,4,6], [1,0,13], [-4,5,5]])\n",
    "Z = np.array([[4,-1,0], [1,1,1]])"
   ],
   "metadata": {
    "collapsed": false
   }
  },
  {
   "cell_type": "code",
   "execution_count": 90,
   "outputs": [
    {
     "data": {
      "text/plain": "array([[-102,  418,  684]])"
     },
     "execution_count": 90,
     "metadata": {},
     "output_type": "execute_result"
    }
   ],
   "source": [
    "# x^TXY\n",
    "x.T.dot(X).dot(Y)"
   ],
   "metadata": {
    "collapsed": false
   }
  },
  {
   "cell_type": "code",
   "execution_count": 91,
   "outputs": [
    {
     "data": {
      "text/plain": "array([[ 44,  -4,  54],\n       [100,  46,  83],\n       [ 61, -58,  20]])"
     },
     "execution_count": 91,
     "metadata": {},
     "output_type": "execute_result"
    }
   ],
   "source": [
    "# YX\n",
    "Y.dot(X)"
   ],
   "metadata": {
    "collapsed": false
   }
  },
  {
   "cell_type": "code",
   "execution_count": 92,
   "outputs": [
    {
     "data": {
      "text/plain": "array([[-43,  46,  51],\n       [ -3,  25, -30],\n       [ -4,  66, 108]])"
     },
     "execution_count": 92,
     "metadata": {},
     "output_type": "execute_result"
    }
   ],
   "source": [
    "# 2X + 2Y + X^TY\n",
    "(2 * X) + (2 * Y) + (X.T.dot(Y))"
   ],
   "metadata": {
    "collapsed": false
   }
  },
  {
   "cell_type": "code",
   "execution_count": 93,
   "outputs": [
    {
     "data": {
      "text/plain": "array([[  4,  12],\n       [  4,  14],\n       [-21,   6]])"
     },
     "execution_count": 93,
     "metadata": {},
     "output_type": "execute_result"
    }
   ],
   "source": [
    "# YZ^T\n",
    "Y.dot(Z.T)"
   ],
   "metadata": {
    "collapsed": false
   }
  },
  {
   "cell_type": "code",
   "execution_count": 94,
   "outputs": [
    {
     "data": {
      "text/plain": "array([[34],\n       [ 4],\n       [10]])"
     },
     "execution_count": 94,
     "metadata": {},
     "output_type": "execute_result"
    }
   ],
   "source": [
    "# Z^TZx\n",
    "Z.T.dot(Z.dot(x))"
   ],
   "metadata": {
    "collapsed": false
   }
  },
  {
   "cell_type": "markdown",
   "source": [
    "Question 2"
   ],
   "metadata": {
    "collapsed": false
   }
  },
  {
   "cell_type": "code",
   "execution_count": 95,
   "outputs": [],
   "source": [
    "# Create two matrices and two vectors\n",
    "X = np.array([[2,3], [9,1]])\n",
    "Y = np.array([[1,0], [2,1]])\n",
    "x = np.array([[1], [3]])\n",
    "y = np.array([[2], [4]])"
   ],
   "metadata": {
    "collapsed": false
   }
  },
  {
   "cell_type": "code",
   "execution_count": 96,
   "outputs": [
    {
     "data": {
      "text/plain": "array([2, 9])"
     },
     "execution_count": 96,
     "metadata": {},
     "output_type": "execute_result"
    }
   ],
   "source": [
    "# Write the code that extracts the 1st column of X\n",
    "X[:, 0]"
   ],
   "metadata": {
    "collapsed": false
   }
  },
  {
   "cell_type": "code",
   "execution_count": 97,
   "outputs": [
    {
     "data": {
      "text/plain": "array([2, 1])"
     },
     "execution_count": 97,
     "metadata": {},
     "output_type": "execute_result"
    }
   ],
   "source": [
    "# Write the code that extracts the 2nd row of Y\n",
    "Y[1, :]"
   ],
   "metadata": {
    "collapsed": false
   }
  },
  {
   "cell_type": "code",
   "execution_count": 98,
   "outputs": [
    {
     "data": {
      "text/plain": "1"
     },
     "execution_count": 98,
     "metadata": {},
     "output_type": "execute_result"
    }
   ],
   "source": [
    "# Write the code that extracts the bottom right value of X\n",
    "X[1, 1]"
   ],
   "metadata": {
    "collapsed": false
   }
  },
  {
   "cell_type": "code",
   "execution_count": 99,
   "outputs": [
    {
     "data": {
      "text/plain": "array([[ 3,  3],\n       [11,  2]])"
     },
     "execution_count": 99,
     "metadata": {},
     "output_type": "execute_result"
    }
   ],
   "source": [
    "# Write the code that adds X + Y\n",
    "X + Y"
   ],
   "metadata": {
    "collapsed": false
   }
  },
  {
   "cell_type": "code",
   "execution_count": 100,
   "outputs": [
    {
     "data": {
      "text/plain": "array([[ 4,  6],\n       [22,  8]])"
     },
     "execution_count": 100,
     "metadata": {},
     "output_type": "execute_result"
    }
   ],
   "source": [
    "# Write the code that performs X + YX\n",
    "X + (Y.dot(X))"
   ],
   "metadata": {
    "collapsed": false
   }
  },
  {
   "cell_type": "code",
   "execution_count": 101,
   "outputs": [
    {
     "data": {
      "text/plain": "array([[ 2],\n       [12]])"
     },
     "execution_count": 101,
     "metadata": {},
     "output_type": "execute_result"
    }
   ],
   "source": [
    "# Write the code that performs the Hadamard product x (*) y\n",
    "x * y"
   ],
   "metadata": {
    "collapsed": false
   }
  },
  {
   "cell_type": "code",
   "execution_count": 102,
   "outputs": [
    {
     "data": {
      "text/plain": "array([[ 2,  4],\n       [ 6, 12]])"
     },
     "execution_count": 102,
     "metadata": {},
     "output_type": "execute_result"
    }
   ],
   "source": [
    "# Write the code that performs the outer product x (x) y\n",
    "np.outer(x, y)"
   ],
   "metadata": {
    "collapsed": false
   }
  },
  {
   "cell_type": "code",
   "execution_count": 103,
   "outputs": [
    {
     "data": {
      "text/plain": "array([[ 8,  3],\n       [11,  1]])"
     },
     "execution_count": 103,
     "metadata": {},
     "output_type": "execute_result"
    }
   ],
   "source": [
    "# Write the code that performs the dot product XY\n",
    "X.dot(Y)"
   ],
   "metadata": {
    "collapsed": false
   }
  },
  {
   "cell_type": "code",
   "execution_count": 104,
   "outputs": [
    {
     "data": {
      "text/plain": "array([[ 8,  3],\n       [11,  1]])"
     },
     "execution_count": 104,
     "metadata": {},
     "output_type": "execute_result"
    }
   ],
   "source": [
    "# Write the code that performs the inner product <X, Y>\n",
    "X.dot(Y)"
   ],
   "metadata": {
    "collapsed": false
   }
  },
  {
   "cell_type": "markdown",
   "source": [
    "Question 3"
   ],
   "metadata": {
    "collapsed": false
   }
  },
  {
   "cell_type": "code",
   "execution_count": 105,
   "outputs": [],
   "source": [
    "import autograd.numpy as np\n",
    "from autograd.numpy import log\n",
    "from autograd.numpy import exp\n",
    "from autograd import grad"
   ],
   "metadata": {
    "collapsed": false
   }
  },
  {
   "cell_type": "code",
   "execution_count": 106,
   "outputs": [],
   "source": [
    "x1 = np.array([[1], [0]])\n",
    "x2 = np.array([[2], [1]])\n",
    "x = np.array([[1], [2]])\n",
    "y = np.array([[2], [0]])\n",
    "w = np.array([[2], [0]])\n",
    "A = np.array([[1, 0], [0, 2]])\n",
    "one = np.array([[1], [1]])"
   ],
   "metadata": {
    "collapsed": false
   }
  },
  {
   "cell_type": "code",
   "execution_count": 107,
   "outputs": [
    {
     "name": "stdout",
     "output_type": "stream",
     "text": [
      "Auto: [[0]\n",
      " [4]]\n",
      "Mine: [[0]\n",
      " [4]]\n"
     ]
    }
   ],
   "source": [
    "# Part 1\n",
    "def f(x):\n",
    "    return x.T @ A @ x - x.T @ y\n",
    "\n",
    "def f_prime(x):\n",
    "    return 2 * A @ x - y\n",
    "\n",
    "auto_grad = grad(f)\n",
    "x = np.array([[1], [1]])\n",
    "print(f'Auto: {auto_grad(x)}\\nMine: {f_prime(x)}')"
   ],
   "metadata": {
    "collapsed": false
   }
  },
  {
   "cell_type": "code",
   "execution_count": 108,
   "outputs": [
    {
     "name": "stdout",
     "output_type": "stream",
     "text": [
      "Auto: [[1]\n",
      " [2]]\n",
      "Mine: [[1]\n",
      " [2]]\n"
     ]
    }
   ],
   "source": [
    "# Part 2\n",
    "def f(x):\n",
    "    return x.T @ A @ one\n",
    "\n",
    "def f_prime(x):\n",
    "    return A @ one\n",
    "\n",
    "auto_grad = grad(f)\n",
    "x = np.array([[1], [1]])\n",
    "print(f'Auto: {auto_grad(x)}\\nMine: {f_prime(x)}')"
   ],
   "metadata": {
    "collapsed": false
   }
  },
  {
   "cell_type": "code",
   "execution_count": 109,
   "outputs": [
    {
     "name": "stdout",
     "output_type": "stream",
     "text": [
      "Auto: [[1]\n",
      " [1]]\n",
      "Mine: [[1]\n",
      " [1]]\n"
     ]
    }
   ],
   "source": [
    "# Part 3\n",
    "def f(x):\n",
    "    return x.T @ one\n",
    "\n",
    "def f_prime(x):\n",
    "    return one\n",
    "\n",
    "auto_grad = grad(f)\n",
    "x = np.array([[1], [1]])\n",
    "print(f'Auto: {auto_grad(x)}\\nMine: {f_prime(x)}')"
   ],
   "metadata": {
    "collapsed": false
   }
  },
  {
   "cell_type": "code",
   "execution_count": 110,
   "outputs": [
    {
     "name": "stdout",
     "output_type": "stream",
     "text": [
      "Auto: [[3]\n",
      " [1]]\n",
      "Mine: [[3]\n",
      " [1]]\n"
     ]
    }
   ],
   "source": [
    "# Part 4\n",
    "x = [x1, x2]\n",
    "\n",
    "def f(w):\n",
    "    return sum(w.T @ xi for xi in x)\n",
    "\n",
    "def f_prime(w):\n",
    "    return sum(x)\n",
    "\n",
    "auto_grad = grad(f)\n",
    "w = np.array([[1], [1]])\n",
    "print(f'Auto: {auto_grad(w)}\\nMine: {f_prime(w)}')"
   ],
   "metadata": {
    "collapsed": false
   }
  },
  {
   "cell_type": "markdown",
   "source": [
    "Question 4"
   ],
   "metadata": {
    "collapsed": false
   }
  },
  {
   "cell_type": "code",
   "execution_count": 111,
   "outputs": [
    {
     "name": "stdout",
     "output_type": "stream",
     "text": [
      "Auto: [[0.23225043]\n",
      " [0.5207804 ]]\n",
      "Mine: [[0.23225043]\n",
      " [0.5207804 ]]\n"
     ]
    }
   ],
   "source": [
    "# Part 1 - Linear\n",
    "def f(x):\n",
    "    return y.T @ x\n",
    "\n",
    "def f_prime(x):\n",
    "    return y\n",
    "\n",
    "auto_grad = grad(f)\n",
    "\n",
    "x = np.random.randn(2, 1)\n",
    "y = np.random.randn(2, 1)\n",
    "\n",
    "print(f'Auto: {auto_grad(x)}\\nMine: {f_prime(x)}')"
   ],
   "metadata": {
    "collapsed": false
   }
  },
  {
   "cell_type": "code",
   "execution_count": 112,
   "outputs": [
    {
     "name": "stdout",
     "output_type": "stream",
     "text": [
      "Auto: [[-2.18061576]\n",
      " [-1.32073189]]\n",
      "Mine: [[-2.18061576]\n",
      " [-1.32073189]]\n"
     ]
    }
   ],
   "source": [
    "# Part 2 - Quadratic\n",
    "def f(x):\n",
    "    return x.T @ A @ x\n",
    "\n",
    "def f_prime(x):\n",
    "    return (A + A.T) @ x\n",
    "\n",
    "auto_grad = grad(f)\n",
    "x = np.random.randn(2, 1)\n",
    "A = np.random.randn(2, 2)\n",
    "print(f'Auto: {auto_grad(x)}\\nMine: {f_prime(x)}')"
   ],
   "metadata": {
    "collapsed": false
   }
  },
  {
   "cell_type": "code",
   "execution_count": 113,
   "outputs": [
    {
     "name": "stdout",
     "output_type": "stream",
     "text": [
      "Auto: [[-2.29167572]\n",
      " [-1.967058  ]]\n",
      "Mine: [[-2.29167572]\n",
      " [-1.967058  ]]\n"
     ]
    }
   ],
   "source": [
    "# Part 3 - Trace of Quadratic\n",
    "def f(x):\n",
    "    return np.trace(x.T @ A @ x)\n",
    "\n",
    "def f_prime(x):\n",
    "    return (A + A.T) @ x\n",
    "\n",
    "auto_grad = grad(f)\n",
    "x = np.random.randn(2, 1)\n",
    "A = np.random.randn(2, 2)\n",
    "print(f'Auto: {auto_grad(x)}\\nMine: {f_prime(x)}')"
   ],
   "metadata": {
    "collapsed": false
   }
  },
  {
   "cell_type": "code",
   "execution_count": 114,
   "outputs": [
    {
     "name": "stdout",
     "output_type": "stream",
     "text": [
      "Auto: [[0.]\n",
      " [0.]]\n",
      "Mine: 0\n"
     ]
    }
   ],
   "source": [
    "# Part 4 - ReLU\n",
    "def f(w, x):\n",
    "    v = np.dot(np.transpose(w), x)\n",
    "    return np.maximum(0, v)\n",
    "\n",
    "def f_prime(w, x):\n",
    "    if w.T.dot(x) > 0:\n",
    "        return x\n",
    "    else:\n",
    "        return 0\n",
    "\n",
    "auto_grad = grad(f)\n",
    "w = np.random.randn(2, 1)\n",
    "x = np.random.randn(2, 1)\n",
    "print(f'Auto: {auto_grad(w, x)}\\nMine: {f_prime(w, x)}')"
   ],
   "metadata": {
    "collapsed": false
   }
  },
  {
   "cell_type": "code",
   "execution_count": 115,
   "outputs": [
    {
     "name": "stdout",
     "output_type": "stream",
     "text": [
      "Auto: [  5.55445045 -11.93219575   2.14850922   0.37441412  -4.05223329]\n",
      "Mine: [  5.55445045 -11.93219575   2.14850922   0.37441412  -4.05223329]\n"
     ]
    }
   ],
   "source": [
    "# Part 5 - Linear Regression\n",
    "def f(w):\n",
    "    return 0.5 * np.sum([(w.T @ x[i] - y[i])**2 for i in range(n)])\n",
    "\n",
    "def f_prime(w):\n",
    "    return np.sum([(w.T @ x[i] - y[i]) * x[i] for i in range(n)], axis=0)\n",
    "\n",
    "auto_grad = grad(f)\n",
    "\n",
    "n, d = 10, 5\n",
    "x = np.random.randn(n, d)\n",
    "y = np.random.randn(n, 1)\n",
    "w = np.random.randn(d, 1)\n",
    "\n",
    "print(f'Auto: {auto_grad(w).flatten()}\\nMine: {f_prime(w)}')"
   ],
   "metadata": {
    "collapsed": false
   }
  },
  {
   "cell_type": "code",
   "execution_count": 116,
   "outputs": [
    {
     "name": "stdout",
     "output_type": "stream",
     "text": [
      "Auto: [[-59.41861153]\n",
      " [ -2.62179167]\n",
      " [-84.90240021]]\n",
      "Mine: [[-59.41861153]\n",
      " [ -2.62179167]\n",
      " [-84.90240021]]\n"
     ]
    }
   ],
   "source": [
    "# Part 6 - Multivariate Gaussian Trace\n",
    "def f(x, A):\n",
    "    return np.exp(-np.trace(x.T @ A @ x))\n",
    "\n",
    "def f_prime(x, A):\n",
    "    return -np.exp(-x.T @ A @ x) * (A + A.T) @ x\n",
    "\n",
    "auto_grad = grad(f)\n",
    "\n",
    "d = 3\n",
    "x = np.random.randn(d, 1)\n",
    "A = np.random.randn(d, d)\n",
    "\n",
    "print(f'Auto: {auto_grad(x, A)}\\nMine: {f_prime(x, A)}')"
   ],
   "metadata": {
    "collapsed": false
   }
  },
  {
   "cell_type": "code",
   "execution_count": 117,
   "outputs": [
    {
     "name": "stdout",
     "output_type": "stream",
     "text": [
      "Auto: [[-0.72813839]\n",
      " [ 0.3378244 ]\n",
      " [-0.55730784]]\n",
      "Mine: [[-0.72813839]\n",
      " [ 0.3378244 ]\n",
      " [-0.55730784]]\n"
     ]
    }
   ],
   "source": [
    "# Part 7 - Multivariate Gaussian\n",
    "def f(x, A):\n",
    "    return np.exp(-x.T @ A @ x)\n",
    "\n",
    "def f_prime(x, A):\n",
    "    return -np.exp(-x.T @ A @ x) * (A + A.T) @ x\n",
    "\n",
    "auto_grad = grad(f)\n",
    "\n",
    "d = 3\n",
    "x = np.random.randn(d, 1)\n",
    "A = np.random.randn(d, d)\n",
    "\n",
    "print(f'Auto: {auto_grad(x, A)}\\nMine: {f_prime(x, A)}')"
   ],
   "metadata": {
    "collapsed": false
   }
  },
  {
   "cell_type": "code",
   "execution_count": 118,
   "outputs": [
    {
     "name": "stdout",
     "output_type": "stream",
     "text": [
      "Auto: 0.24745098523761763\n",
      "Mine: 0.2474509852376176\n"
     ]
    }
   ],
   "source": [
    "# Part 8 - Sigmoid\n",
    "def f(z):\n",
    "    return 1 / (1 + np.exp(-z))\n",
    "\n",
    "def f_prime(z):\n",
    "    fz = f(z)\n",
    "    return fz * (1 - fz)\n",
    "\n",
    "auto_grad = grad(f)\n",
    "\n",
    "z = np.random.randn()\n",
    "\n",
    "print(f'Auto: {auto_grad(z)}\\nMine: {f_prime(z)}')"
   ],
   "metadata": {
    "collapsed": false
   }
  },
  {
   "cell_type": "code",
   "execution_count": 119,
   "outputs": [
    {
     "name": "stdout",
     "output_type": "stream",
     "text": [
      "Auto: [[-0.13190646]\n",
      " [ 0.16317177]\n",
      " [ 0.03648653]]\n",
      "Mine: [[-0.13190646]\n",
      " [ 0.16317177]\n",
      " [ 0.03648653]]\n"
     ]
    }
   ],
   "source": [
    "# Part 9 - Logistic Regression Objective\n",
    "def f(w, x):\n",
    "    return 1 / (1 + np.exp(-w.T @ x))\n",
    "\n",
    "def f_prime(w, x):\n",
    "    fw = f(w, x)\n",
    "    return fw * (1 - fw) * x\n",
    "\n",
    "auto_grad = grad(f)\n",
    "\n",
    "d = 3\n",
    "w = np.random.randn(d, 1)\n",
    "x = np.random.randn(d, 1)\n",
    "\n",
    "print(f'Auto: {auto_grad(w, x)}\\nMine: {f_prime(w, x)}')"
   ],
   "metadata": {
    "collapsed": false
   }
  },
  {
   "cell_type": "code",
   "execution_count": 120,
   "outputs": [
    {
     "name": "stdout",
     "output_type": "stream",
     "text": [
      "Auto: [[ 1.]\n",
      " [-1.]\n",
      " [-1.]]\n",
      "Mine: [[ 1.]\n",
      " [-1.]\n",
      " [-1.]]\n"
     ]
    }
   ],
   "source": [
    "# Part 10 - L1 Norm\n",
    "def f(x):\n",
    "    return np.sum(np.abs(x))\n",
    "\n",
    "def f_prime(x):\n",
    "    return np.sign(x)\n",
    "\n",
    "auto_grad = grad(f)\n",
    "\n",
    "x = np.random.randn(3, 1)\n",
    "\n",
    "print(f'Auto: {auto_grad(x)}\\nMine: {f_prime(x)}')"
   ],
   "metadata": {
    "collapsed": false
   }
  },
  {
   "cell_type": "code",
   "execution_count": 121,
   "outputs": [
    {
     "name": "stdout",
     "output_type": "stream",
     "text": [
      "Auto: [[0.79391072]\n",
      " [0.32206084]\n",
      " [0.51573499]]\n",
      "Mine: [[0.79391072]\n",
      " [0.32206084]\n",
      " [0.51573499]]\n"
     ]
    }
   ],
   "source": [
    "# Part 11 - L2 Norm\n",
    "def f(x):\n",
    "    return np.sqrt(np.sum(x**2))\n",
    "\n",
    "def f_prime(x):\n",
    "    norm_x = np.sqrt(np.sum(x**2))\n",
    "    if norm_x == 0:\n",
    "        return np.zeros_like(x)\n",
    "    else:\n",
    "        return x / norm_x\n",
    "\n",
    "auto_grad = grad(f)\n",
    "\n",
    "x = np.random.randn(3, 1)\n",
    "\n",
    "print(f'Auto: {auto_grad(x)}\\nMine: {f_prime(x)}')"
   ],
   "metadata": {
    "collapsed": false
   }
  },
  {
   "cell_type": "code",
   "execution_count": 122,
   "outputs": [],
   "source": [
    "# Part 12 - SVM Objective\n",
    "\n",
    "# instructions stated to skip"
   ],
   "metadata": {
    "collapsed": false
   }
  },
  {
   "cell_type": "code",
   "execution_count": 123,
   "outputs": [
    {
     "name": "stdout",
     "output_type": "stream",
     "text": [
      "Auto: [[-0.19338511]\n",
      " [ 0.02452567]\n",
      " [-0.9177349 ]]\n",
      "Mine: [[-0.19338511]\n",
      " [ 0.02452567]\n",
      " [-0.9177349 ]]\n"
     ]
    }
   ],
   "source": [
    "# Part 13 - PCA Objective\n",
    "def f(x, A, λ):\n",
    "    return x.T @ A @ x - λ * (x.T @ x - 1)\n",
    "\n",
    "def f_prime(x, A, λ):\n",
    "    return (A + A.T) @ x - 2 * λ * x\n",
    "\n",
    "auto_grad = grad(f)\n",
    "\n",
    "d = 3\n",
    "x = np.random.randn(d, 1)\n",
    "A = np.random.randn(d, d)\n",
    "λ = np.random.randn()\n",
    "\n",
    "print(f'Auto: {auto_grad(x, A, λ)}\\nMine: {f_prime(x, A, λ)}')"
   ],
   "metadata": {
    "collapsed": false
   }
  },
  {
   "cell_type": "code",
   "execution_count": 124,
   "outputs": [
    {
     "name": "stdout",
     "output_type": "stream",
     "text": [
      "Auto: 4.510568828136615\n",
      "Mine: 4.510568828136615\n"
     ]
    }
   ],
   "source": [
    "# Part 14 - Gaussian Maximum Likelihood\n",
    "def f(µ, x, σ):\n",
    "    n = len(x)\n",
    "    return -n * np.log(np.sqrt(2 * np.pi) * σ) - (1/(2 * σ**2)) * np.sum((x - µ)**2)\n",
    "\n",
    "def f_prime(µ, x, σ):\n",
    "    return (1/(σ**2)) * np.sum(x - µ)\n",
    "\n",
    "auto_grad = grad(f)\n",
    "\n",
    "µ = np.random.randn()\n",
    "σ = np.random.rand()\n",
    "x = np.random.randn(10, 1)\n",
    "\n",
    "print(f'Auto: {auto_grad(µ, x, σ)}\\nMine: {f_prime(µ, x, σ)}')"
   ],
   "metadata": {
    "collapsed": false
   }
  },
  {
   "cell_type": "code",
   "execution_count": 125,
   "outputs": [
    {
     "name": "stdout",
     "output_type": "stream",
     "text": [
      "Auto: 11.479169190074714\n",
      "Mine: 11.479169190074714\n"
     ]
    }
   ],
   "source": [
    "# Part 15 - Exponential Maximum Likelihood\n",
    "def f(λ, x):\n",
    "    n = len(x)\n",
    "    return np.sum(np.log(λ) - λ * x)\n",
    "\n",
    "def f_prime(λ, x):\n",
    "    n = len(x)\n",
    "    return n / λ - np.sum(x)\n",
    "\n",
    "auto_grad = grad(f)\n",
    "\n",
    "λ = np.random.randn()\n",
    "x = np.random.randn(10, 1)\n",
    "\n",
    "print(f'Auto: {auto_grad(λ, x)}\\nMine: {f_prime(λ, x)}')"
   ],
   "metadata": {
    "collapsed": false
   }
  },
  {
   "cell_type": "code",
   "execution_count": 126,
   "outputs": [
    {
     "name": "stdout",
     "output_type": "stream",
     "text": [
      "Auto: 63.51224451385266\n",
      "Mine: 63.51224451385265\n"
     ]
    }
   ],
   "source": [
    "# Part 16 - Bernoulli Maximum Likelihood\n",
    "def f(p, α):\n",
    "    return np.sum(α * np.log(p) + (1 - α) * np.log(1 - p))\n",
    "\n",
    "def f_prime(p, α):\n",
    "    return np.sum(α / p - (1 - α) / (1 - p))\n",
    "\n",
    "auto_grad = grad(f)\n",
    "\n",
    "p = np.random.randn()\n",
    "α = np.random.randint(0, 2, 10)\n",
    "\n",
    "print(f'Auto: {auto_grad(p, α)}\\nMine: {f_prime(p, α)}')"
   ],
   "metadata": {
    "collapsed": false
   }
  },
  {
   "cell_type": "code",
   "execution_count": 128,
   "outputs": [
    {
     "name": "stdout",
     "output_type": "stream",
     "text": [
      "Auto: [ 6.3301155 -6.3301155]\n",
      "Mine: [6.330115502432898, -6.330115502432898]\n"
     ]
    }
   ],
   "source": [
    "# Part 17 - Uniform Maximum Likelihood\n",
    "def f(v):\n",
    "    a, b = v\n",
    "    if b <= a:\n",
    "        return np.inf\n",
    "    n = 10\n",
    "    return n * np.log(1 / (b - a))\n",
    "\n",
    "def f_prime(v):\n",
    "    a, b = v\n",
    "    if b <= a:\n",
    "        return [np.inf, np.inf]\n",
    "    n = 10\n",
    "    common_term = n / (b - a)\n",
    "    return [common_term, -common_term]\n",
    "\n",
    "auto_grad = grad(f)\n",
    "\n",
    "a = np.random.randn()\n",
    "b = a + np.random.randn()\n",
    "v = np.array([a, b])\n",
    "\n",
    "print(f'Auto: {auto_grad(v)}\\nMine: {f_prime(v)}')"
   ],
   "metadata": {
    "collapsed": false
   }
  },
  {
   "cell_type": "code",
   "execution_count": null,
   "outputs": [],
   "source": [],
   "metadata": {
    "collapsed": false
   }
  }
 ],
 "metadata": {
  "kernelspec": {
   "display_name": "Python 3",
   "language": "python",
   "name": "python3"
  },
  "language_info": {
   "codemirror_mode": {
    "name": "ipython",
    "version": 2
   },
   "file_extension": ".py",
   "mimetype": "text/x-python",
   "name": "python",
   "nbconvert_exporter": "python",
   "pygments_lexer": "ipython2",
   "version": "2.7.6"
  }
 },
 "nbformat": 4,
 "nbformat_minor": 0
}
